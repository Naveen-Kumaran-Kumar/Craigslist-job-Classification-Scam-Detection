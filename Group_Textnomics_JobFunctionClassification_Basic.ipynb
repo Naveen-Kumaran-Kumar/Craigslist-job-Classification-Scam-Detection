{
 "cells": [
  {
   "cell_type": "code",
   "execution_count": 1,
   "metadata": {},
   "outputs": [],
   "source": [
    "#import packages\n",
    "from time import time\n",
    "from collections import Counter\n",
    "import pandas as pd\n",
    "import numpy as np\n",
    "import seaborn as sns\n",
    "import matplotlib.pyplot as plt\n",
    "from imblearn.over_sampling import SMOTE, KMeansSMOTE\n",
    "import nltk\n",
    "from nltk.corpus import stopwords\n",
    "from nltk.stem import WordNetLemmatizer\n",
    "from sklearn.feature_extraction.text import TfidfVectorizer\n",
    "from sklearn.model_selection import train_test_split\n",
    "from sklearn.naive_bayes import BernoulliNB\n",
    "from sklearn.linear_model import LogisticRegression\n",
    "from sklearn.ensemble import GradientBoostingClassifier\n",
    "from sklearn.svm import LinearSVC\n",
    "from sklearn.svm import SVC\n",
    "from sklearn.metrics import precision_score\n",
    "from sklearn.ensemble import RandomForestClassifier\n",
    "from sklearn.metrics import classification_report\n",
    "from sklearn.metrics import f1_score\n",
    "from sklearn.metrics import accuracy_score\n",
    "from matplotlib.pyplot import figure"
   ]
  },
  {
   "cell_type": "code",
   "execution_count": 2,
   "metadata": {},
   "outputs": [],
   "source": [
    "#reading data\n",
    "df = pd.read_csv(\"fake_job_postings.csv\")\n",
    "df_scraped = pd.read_csv(\"scraped_data.csv\")"
   ]
  },
  {
   "cell_type": "code",
   "execution_count": 3,
   "metadata": {},
   "outputs": [],
   "source": [
    "#Function to preprocess\n",
    "def preprocess(df):\n",
    "    df = df[df.location.notnull()]\n",
    "    df= df[df.location.str.contains(\"US,\")] \n",
    "    df = df[df.function.notnull()]\n",
    "    return df\n",
    "\n",
    "df = preprocess(df) \n",
    "df = df[df.function.isin(df['function'].value_counts()[df['function'].value_counts() > 260].index.tolist())]"
   ]
  },
  {
   "cell_type": "code",
   "execution_count": 4,
   "metadata": {},
   "outputs": [
    {
     "data": {
      "text/plain": [
       "Customer Service          955\n",
       "Sales                     951\n",
       "Information Technology    765\n",
       "Engineering               690\n",
       "Administrative            394\n",
       "Marketing                 390\n",
       "Education                 292\n",
       "Health Care Provider      264\n",
       "Name: function, dtype: int64"
      ]
     },
     "execution_count": 4,
     "metadata": {},
     "output_type": "execute_result"
    }
   ],
   "source": [
    "df['function'].value_counts()"
   ]
  },
  {
   "cell_type": "code",
   "execution_count": 19,
   "metadata": {},
   "outputs": [
    {
     "data": {
      "image/png": "[encoded data removed]",
      "text/plain": [
       "<Figure size 1280x480 with 1 Axes>"
      ]
     },
     "metadata": {},
     "output_type": "display_data"
    }
   ],
   "source": [
    "l = df['function'].value_counts()\n",
    "figure(figsize=(16, 6), dpi=80)\n",
    "plt.bar(l.index, l.values, width=0.4, color='#AA2070', align='center')\n",
    "plt.ylabel(\"Number of Jobs\")\n",
    "plt.xlabel(\"Job function\")\n",
    "plt.show()"
   ]
  },
  {
   "cell_type": "code",
   "execution_count": 6,
   "metadata": {},
   "outputs": [
    {
     "data": {
      "text/html": [
       "<div>\n",
       "<style scoped>\n",
       "    .dataframe tbody tr th:only-of-type {\n",
       "        vertical-align: middle;\n",
       "    }\n",
       "\n",
       "    .dataframe tbody tr th {\n",
       "        vertical-align: top;\n",
       "    }\n",
       "\n",
       "    .dataframe thead th {\n",
       "        text-align: right;\n",
       "    }\n",
       "</style>\n",
       "<table border=\"1\" class=\"dataframe\">\n",
       "  <thead>\n",
       "    <tr style=\"text-align: right;\">\n",
       "      <th></th>\n",
       "      <th>function</th>\n",
       "      <th>description</th>\n",
       "    </tr>\n",
       "  </thead>\n",
       "  <tbody>\n",
       "    <tr>\n",
       "      <th>0</th>\n",
       "      <td>Marketing</td>\n",
       "      <td>james beard online food community curated reci...</td>\n",
       "    </tr>\n",
       "    <tr>\n",
       "      <th>1</th>\n",
       "      <td>Sales</td>\n",
       "      <td>company esri environmental system research ins...</td>\n",
       "    </tr>\n",
       "    <tr>\n",
       "      <th>2</th>\n",
       "      <td>Health Care Provider</td>\n",
       "      <td>job title itemization review managerlocation f...</td>\n",
       "    </tr>\n",
       "    <tr>\n",
       "      <th>3</th>\n",
       "      <td>Customer Service</td>\n",
       "      <td>customer service associate based phoenix az ri...</td>\n",
       "    </tr>\n",
       "    <tr>\n",
       "      <th>4</th>\n",
       "      <td>Information Technology</td>\n",
       "      <td>position developerjob location united cityus w...</td>\n",
       "    </tr>\n",
       "    <tr>\n",
       "      <th>...</th>\n",
       "      <td>...</td>\n",
       "      <td>...</td>\n",
       "    </tr>\n",
       "    <tr>\n",
       "      <th>4696</th>\n",
       "      <td>Information Technology</td>\n",
       "      <td>perform basic workstation trouble analysis inc...</td>\n",
       "    </tr>\n",
       "    <tr>\n",
       "      <th>4697</th>\n",
       "      <td>Engineering</td>\n",
       "      <td>looking integral player handful apps hit marke...</td>\n",
       "    </tr>\n",
       "    <tr>\n",
       "      <th>4698</th>\n",
       "      <td>Information Technology</td>\n",
       "      <td>position sql server dbalocation bay area cadur...</td>\n",
       "    </tr>\n",
       "    <tr>\n",
       "      <th>4699</th>\n",
       "      <td>Health Care Provider</td>\n",
       "      <td>crossroad treatment center south carolina curr...</td>\n",
       "    </tr>\n",
       "    <tr>\n",
       "      <th>4700</th>\n",
       "      <td>Information Technology</td>\n",
       "      <td>sr javascript developer experience year locati...</td>\n",
       "    </tr>\n",
       "  </tbody>\n",
       "</table>\n",
       "<p>4701 rows × 2 columns</p>\n",
       "</div>"
      ],
      "text/plain": [
       "                    function  \\\n",
       "0                  Marketing   \n",
       "1                      Sales   \n",
       "2       Health Care Provider   \n",
       "3           Customer Service   \n",
       "4     Information Technology   \n",
       "...                      ...   \n",
       "4696  Information Technology   \n",
       "4697             Engineering   \n",
       "4698  Information Technology   \n",
       "4699    Health Care Provider   \n",
       "4700  Information Technology   \n",
       "\n",
       "                                            description  \n",
       "0     james beard online food community curated reci...  \n",
       "1     company esri environmental system research ins...  \n",
       "2     job title itemization review managerlocation f...  \n",
       "3     customer service associate based phoenix az ri...  \n",
       "4     position developerjob location united cityus w...  \n",
       "...                                                 ...  \n",
       "4696  perform basic workstation trouble analysis inc...  \n",
       "4697  looking integral player handful apps hit marke...  \n",
       "4698  position sql server dbalocation bay area cadur...  \n",
       "4699  crossroad treatment center south carolina curr...  \n",
       "4700  sr javascript developer experience year locati...  \n",
       "\n",
       "[4701 rows x 2 columns]"
      ]
     },
     "execution_count": 6,
     "metadata": {},
     "output_type": "execute_result"
    }
   ],
   "source": [
    "def text_preprocess(document):\n",
    "    \n",
    "    stemmer = WordNetLemmatizer()\n",
    "    document = document.lower()\n",
    "    words = nltk.word_tokenize(document)\n",
    "    words = [stemmer.lemmatize(word) for word in words if word.isalpha()]\n",
    "    words = [word for word in words if word not in stopwords.words(\"english\")]\n",
    "    sentence = \" \".join(words)\n",
    "    return sentence\n",
    "\n",
    "textList = [text for text in df.description]\n",
    "processed_data_text = [text_preprocess(text) for text in textList]\n",
    "df_text = pd.DataFrame({'function': df.function.tolist() , 'description': processed_data_text})\n",
    "df_text"
   ]
  },
  {
   "cell_type": "code",
   "execution_count": 7,
   "metadata": {},
   "outputs": [
    {
     "name": "stderr",
     "output_type": "stream",
     "text": [
      "/Users/shubhamgoyanka/opt/anaconda3/lib/python3.8/site-packages/sklearn/feature_extraction/text.py:388: UserWarning: Your stop_words may be inconsistent with your preprocessing. Tokenizing the stop words generated tokens ['b', 'c', 'd', 'e', 'f', 'g', 'h', 'k', 'l', 'm', 'n', 'o', 'p', 'r', 's', 't', 'u', 'v', 'w', 'x', 'y'] not in stop_words.\n",
      "  warnings.warn('Your stop_words may be inconsistent with '\n"
     ]
    }
   ],
   "source": [
    "def tokenizer(doc):\n",
    "    return doc\n",
    "\n",
    "#tf-idf vectorizer\n",
    "def tfidf(df_text):\n",
    "    vec = TfidfVectorizer(analyzer='word', tokenizer=tokenizer, preprocessor=tokenizer, token_pattern=None,\n",
    "                      min_df=2, ngram_range=(1,2), stop_words='english')\n",
    "    vec.fit(df_text.description)\n",
    "    train_x, test_x, train_y, test_y = train_test_split(df_text.description, df_text.function, test_size=0.2, random_state=0)\n",
    "    train_x = vec.transform(train_x)\n",
    "    test_x = vec.transform(test_x)\n",
    "    return train_x,train_y, test_x, test_y\n",
    "\n",
    "train_x,train_y, test_x, test_y = tfidf(df_text)\n"
   ]
  },
  {
   "cell_type": "code",
   "execution_count": 8,
   "metadata": {},
   "outputs": [],
   "source": [
    "modelList = ['Naive Bayes', 'Random Forest', 'Linear SVM', 'Gradient Boosting']\n",
    "accuracyList = []\n",
    "f1List = []"
   ]
  },
  {
   "cell_type": "code",
   "execution_count": 9,
   "metadata": {},
   "outputs": [
    {
     "name": "stdout",
     "output_type": "stream",
     "text": [
      "Naive Bayes:::\n",
      "                        precision    recall  f1-score   support\n",
      "\n",
      "        Administrative       0.43      0.36      0.39        78\n",
      "      Customer Service       0.82      0.57      0.67       204\n",
      "             Education       0.82      0.85      0.83        53\n",
      "           Engineering       0.66      0.58      0.62       141\n",
      "  Health Care Provider       0.70      0.86      0.77        50\n",
      "Information Technology       0.53      0.46      0.49       164\n",
      "             Marketing       0.42      0.67      0.52        60\n",
      "                 Sales       0.55      0.74      0.64       191\n",
      "\n",
      "              accuracy                           0.61       941\n",
      "             macro avg       0.62      0.64      0.62       941\n",
      "          weighted avg       0.63      0.61      0.61       941\n",
      "\n"
     ]
    }
   ],
   "source": [
    "#Naive Bayes Model\n",
    "def naiveb(train_x, train_y, test_x, test_y):\n",
    "    model = BernoulliNB()\n",
    "    model.fit(train_x, train_y)\n",
    "    y_pred = model.predict(test_x)\n",
    "    print(\"Naive Bayes:::\")\n",
    "    print(classification_report(test_y, y_pred))\n",
    "    return accuracy_score(test_y, y_pred ), f1_score(test_y, y_pred, average='weighted')\n",
    "    \n",
    "a_score, f_score = naiveb(train_x, train_y, test_x, test_y)\n",
    "accuracyList.append(a_score)\n",
    "f1List.append(f_score)"
   ]
  },
  {
   "cell_type": "code",
   "execution_count": 10,
   "metadata": {},
   "outputs": [
    {
     "name": "stdout",
     "output_type": "stream",
     "text": [
      "Random Forestl:::\n",
      "                        precision    recall  f1-score   support\n",
      "\n",
      "        Administrative       0.64      0.45      0.53        78\n",
      "      Customer Service       0.84      0.75      0.79       204\n",
      "             Education       1.00      0.91      0.95        53\n",
      "           Engineering       0.63      0.82      0.72       141\n",
      "  Health Care Provider       0.75      0.94      0.83        50\n",
      "Information Technology       0.74      0.56      0.64       164\n",
      "             Marketing       0.53      0.78      0.63        60\n",
      "                 Sales       0.80      0.81      0.81       191\n",
      "\n",
      "              accuracy                           0.74       941\n",
      "             macro avg       0.74      0.75      0.74       941\n",
      "          weighted avg       0.75      0.74      0.74       941\n",
      "\n"
     ]
    }
   ],
   "source": [
    "#Random Forest Model\n",
    "def rfmodel(train_x, train_y, test_x, test_y):\n",
    "    model = RandomForestClassifier(n_estimators=500, max_depth=6, bootstrap=True, random_state=0,class_weight = 'balanced')\n",
    "    model.fit(train_x, train_y)\n",
    "    y_pred = model.predict(test_x)\n",
    "    print(\"Random Forestl:::\")\n",
    "    print(classification_report(test_y, y_pred))\n",
    "    return accuracy_score(test_y, y_pred,), f1_score(test_y, y_pred, average='weighted')\n",
    "    \n",
    "a_score, f_score = rfmodel(train_x, train_y, test_x, test_y)\n",
    "accuracyList.append(a_score)\n",
    "f1List.append(f_score)"
   ]
  },
  {
   "cell_type": "code",
   "execution_count": 11,
   "metadata": {},
   "outputs": [
    {
     "name": "stdout",
     "output_type": "stream",
     "text": [
      "SVM:::\n",
      "                        precision    recall  f1-score   support\n",
      "\n",
      "        Administrative       0.65      0.46      0.54        78\n",
      "      Customer Service       0.80      0.83      0.82       204\n",
      "             Education       0.96      0.96      0.96        53\n",
      "           Engineering       0.68      0.74      0.71       141\n",
      "  Health Care Provider       0.89      0.96      0.92        50\n",
      "Information Technology       0.76      0.68      0.72       164\n",
      "             Marketing       0.67      0.67      0.67        60\n",
      "                 Sales       0.82      0.88      0.85       191\n",
      "\n",
      "              accuracy                           0.78       941\n",
      "             macro avg       0.78      0.77      0.77       941\n",
      "          weighted avg       0.77      0.78      0.77       941\n",
      "\n"
     ]
    },
    {
     "name": "stderr",
     "output_type": "stream",
     "text": [
      "/Users/shubhamgoyanka/opt/anaconda3/lib/python3.8/site-packages/sklearn/svm/_base.py:985: ConvergenceWarning: Liblinear failed to converge, increase the number of iterations.\n",
      "  warnings.warn(\"Liblinear failed to converge, increase \"\n"
     ]
    }
   ],
   "source": [
    "#Linear SVM Model\n",
    "def svmmodel(train_x, train_y, test_x, test_y):\n",
    "    model = LinearSVC(random_state = 0, penalty = 'l1', dual = False)\n",
    "    model.fit(train_x, train_y)\n",
    "    y_pred = model.predict(test_x)\n",
    "    print(\"SVM:::\")\n",
    "    print(classification_report(test_y, y_pred))\n",
    "    return accuracy_score(test_y, y_pred), f1_score(test_y, y_pred, average='weighted')\n",
    "    \n",
    "a_score, f_score = svmmodel(train_x, train_y, test_x, test_y)\n",
    "accuracyList.append(a_score)\n",
    "f1List.append(f_score)"
   ]
  },
  {
   "cell_type": "code",
   "execution_count": 12,
   "metadata": {},
   "outputs": [
    {
     "name": "stdout",
     "output_type": "stream",
     "text": [
      "Gradient Boosting:::\n",
      "                        precision    recall  f1-score   support\n",
      "\n",
      "        Administrative       0.47      0.42      0.45        78\n",
      "      Customer Service       0.73      0.76      0.74       204\n",
      "             Education       0.89      0.91      0.90        53\n",
      "           Engineering       0.62      0.66      0.64       141\n",
      "  Health Care Provider       0.71      0.24      0.36        50\n",
      "Information Technology       0.66      0.65      0.65       164\n",
      "             Marketing       0.39      0.60      0.47        60\n",
      "                 Sales       0.77      0.74      0.75       191\n",
      "\n",
      "              accuracy                           0.66       941\n",
      "             macro avg       0.65      0.62      0.62       941\n",
      "          weighted avg       0.67      0.66      0.66       941\n",
      "\n"
     ]
    }
   ],
   "source": [
    "#Gradient Boosting Model\n",
    "def gbmodel(train_x, train_y, test_x, test_y):\n",
    "    model = GradientBoostingClassifier(n_estimators=100, learning_rate=1.0, max_depth=1, random_state=0)\n",
    "    model.fit(train_x, train_y)\n",
    "    y_pred = model.predict(test_x)\n",
    "    print(\"Gradient Boosting:::\")\n",
    "    print(classification_report(test_y, y_pred))\n",
    "    return accuracy_score(test_y, y_pred), f1_score(test_y, y_pred, average='weighted')\n",
    "    \n",
    "a_score, f_score = gbmodel(train_x, train_y, test_x, test_y)\n",
    "accuracyList.append(a_score)\n",
    "f1List.append(f_score)"
   ]
  },
  {
   "cell_type": "code",
   "execution_count": 13,
   "metadata": {},
   "outputs": [
    {
     "data": {
      "text/plain": [
       "([0.6078639744952179,\n",
       "  0.7375132837407014,\n",
       "  0.7757704569606801,\n",
       "  0.6641870350690755],\n",
       " [0.6067222361172423,\n",
       "  0.7353694777349024,\n",
       "  0.7716621945815958,\n",
       "  0.661104256078066],\n",
       " ['Naive Bayes', 'Random Forest', 'Linear SVM', 'Gradient Boosting'])"
      ]
     },
     "execution_count": 13,
     "metadata": {},
     "output_type": "execute_result"
    }
   ],
   "source": [
    "accuracyList, f1List, modelList"
   ]
  },
  {
   "cell_type": "code",
   "execution_count": 14,
   "metadata": {},
   "outputs": [
    {
     "name": "stderr",
     "output_type": "stream",
     "text": [
      "/Users/shubhamgoyanka/opt/anaconda3/lib/python3.8/site-packages/seaborn/_decorators.py:36: FutureWarning: Pass the following variables as keyword args: x, y. From version 0.12, the only valid positional argument will be `data`, and passing other arguments without an explicit keyword will result in an error or misinterpretation.\n",
      "  warnings.warn(\n"
     ]
    },
    {
     "data": {
      "image/png": "[encoded data removed]",
      "text/plain": [
       "<Figure size 720x432 with 1 Axes>"
      ]
     },
     "metadata": {},
     "output_type": "display_data"
    }
   ],
   "source": [
    "import seaborn\n",
    "sns.set(rc={'figure.figsize':(10,6)})\n",
    "tips = sns.load_dataset(\"tips\")\n",
    "g = seaborn.barplot(modelList,accuracyList, palette=\"mako\", data= tips)\n",
    "plt.title(\"Performance of different models\")\n",
    "plt.ylabel(\"Precision\")\n",
    "plt.show(g)"
   ]
  },
  {
   "cell_type": "code",
   "execution_count": 15,
   "metadata": {},
   "outputs": [
    {
     "name": "stderr",
     "output_type": "stream",
     "text": [
      "/Users/shubhamgoyanka/opt/anaconda3/lib/python3.8/site-packages/seaborn/_decorators.py:36: FutureWarning: Pass the following variables as keyword args: x, y. From version 0.12, the only valid positional argument will be `data`, and passing other arguments without an explicit keyword will result in an error or misinterpretation.\n",
      "  warnings.warn(\n"
     ]
    },
    {
     "data": {
      "image/png": "[encoded data removed]",
      "text/plain": [
       "<Figure size 720x432 with 1 Axes>"
      ]
     },
     "metadata": {},
     "output_type": "display_data"
    }
   ],
   "source": [
    "import seaborn\n",
    "tips = sns.load_dataset(\"tips\")\n",
    "g = seaborn.barplot(modelList,f1List, palette=\"mako\", data= tips)\n",
    "plt.title(\"Performance of different models\")\n",
    "plt.ylabel(\"F1 Score\")\n",
    "plt.show(g)"
   ]
  },
  {
   "cell_type": "code",
   "execution_count": null,
   "metadata": {},
   "outputs": [],
   "source": []
  }
 ],
 "metadata": {
  "kernelspec": {
   "display_name": "Python 3",
   "language": "python",
   "name": "python3"
  },
  "language_info": {
   "codemirror_mode": {
    "name": "ipython",
    "version": 3
   },
   "file_extension": ".py",
   "mimetype": "text/x-python",
   "name": "python",
   "nbconvert_exporter": "python",
   "pygments_lexer": "ipython3",
   "version": "3.8.8"
  }
 },
 "nbformat": 4,
 "nbformat_minor": 4
}
